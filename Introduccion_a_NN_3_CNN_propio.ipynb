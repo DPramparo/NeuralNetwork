{
  "nbformat": 4,
  "nbformat_minor": 0,
  "metadata": {
    "colab": {
      "provenance": [],
      "collapsed_sections": []
    },
    "kernelspec": {
      "name": "python3",
      "display_name": "Python 3"
    },
    "language_info": {
      "name": "python"
    },
    "widgets": {
      "application/vnd.jupyter.widget-state+json": {
        "6bb2032b9afd45b9b19a77ca7b605537": {
          "model_module": "@jupyter-widgets/controls",
          "model_name": "HBoxModel",
          "state": {
            "_view_name": "HBoxView",
            "_dom_classes": [],
            "_model_name": "HBoxModel",
            "_view_module": "@jupyter-widgets/controls",
            "_model_module_version": "1.5.0",
            "_view_count": null,
            "_view_module_version": "1.5.0",
            "box_style": "",
            "layout": "IPY_MODEL_6fc537c23c8f447dacde0cc3fdcd6e74",
            "_model_module": "@jupyter-widgets/controls",
            "children": [
              "IPY_MODEL_0fe4e1b9b3e3480cbcd430c246b5c407",
              "IPY_MODEL_574abef32ba84eff8e3e5ec597cb0d5a"
            ]
          },
          "model_module_version": "1.5.0"
        },
        "6fc537c23c8f447dacde0cc3fdcd6e74": {
          "model_module": "@jupyter-widgets/base",
          "model_name": "LayoutModel",
          "state": {
            "_view_name": "LayoutView",
            "grid_template_rows": null,
            "right": null,
            "justify_content": null,
            "_view_module": "@jupyter-widgets/base",
            "overflow": null,
            "_model_module_version": "1.2.0",
            "_view_count": null,
            "flex_flow": null,
            "width": null,
            "min_width": null,
            "border": null,
            "align_items": null,
            "bottom": null,
            "_model_module": "@jupyter-widgets/base",
            "top": null,
            "grid_column": null,
            "overflow_y": null,
            "overflow_x": null,
            "grid_auto_flow": null,
            "grid_area": null,
            "grid_template_columns": null,
            "flex": null,
            "_model_name": "LayoutModel",
            "justify_items": null,
            "grid_row": null,
            "max_height": null,
            "align_content": null,
            "visibility": null,
            "align_self": null,
            "height": null,
            "min_height": null,
            "padding": null,
            "grid_auto_rows": null,
            "grid_gap": null,
            "max_width": null,
            "order": null,
            "_view_module_version": "1.2.0",
            "grid_template_areas": null,
            "object_position": null,
            "object_fit": null,
            "grid_auto_columns": null,
            "margin": null,
            "display": null,
            "left": null
          },
          "model_module_version": "1.2.0"
        },
        "0fe4e1b9b3e3480cbcd430c246b5c407": {
          "model_module": "@jupyter-widgets/controls",
          "model_name": "FloatProgressModel",
          "state": {
            "_view_name": "ProgressView",
            "style": "IPY_MODEL_cb4d1e40afad496aabc8ceb5a6e17e21",
            "_dom_classes": [],
            "description": "100%",
            "_model_name": "FloatProgressModel",
            "bar_style": "success",
            "max": 46827520,
            "_view_module": "@jupyter-widgets/controls",
            "_model_module_version": "1.5.0",
            "value": 46827520,
            "_view_count": null,
            "_view_module_version": "1.5.0",
            "orientation": "horizontal",
            "min": 0,
            "description_tooltip": null,
            "_model_module": "@jupyter-widgets/controls",
            "layout": "IPY_MODEL_875705c64cdb4a19a435383c7da5ca11"
          },
          "model_module_version": "1.5.0"
        },
        "574abef32ba84eff8e3e5ec597cb0d5a": {
          "model_module": "@jupyter-widgets/controls",
          "model_name": "HTMLModel",
          "state": {
            "_view_name": "HTMLView",
            "style": "IPY_MODEL_f0f06a9d44d842e8b1a9790e22233aa0",
            "_dom_classes": [],
            "description": "",
            "_model_name": "HTMLModel",
            "placeholder": "​",
            "_view_module": "@jupyter-widgets/controls",
            "_model_module_version": "1.5.0",
            "value": " 44.7M/44.7M [00:52&lt;00:00, 894kB/s]",
            "_view_count": null,
            "_view_module_version": "1.5.0",
            "description_tooltip": null,
            "_model_module": "@jupyter-widgets/controls",
            "layout": "IPY_MODEL_a0ecdaa21e3b4748ac0f4c465e51cdbf"
          },
          "model_module_version": "1.5.0"
        },
        "cb4d1e40afad496aabc8ceb5a6e17e21": {
          "model_module": "@jupyter-widgets/controls",
          "model_name": "ProgressStyleModel",
          "state": {
            "_view_name": "StyleView",
            "_model_name": "ProgressStyleModel",
            "description_width": "initial",
            "_view_module": "@jupyter-widgets/base",
            "_model_module_version": "1.5.0",
            "_view_count": null,
            "_view_module_version": "1.2.0",
            "bar_color": null,
            "_model_module": "@jupyter-widgets/controls"
          },
          "model_module_version": "1.5.0"
        },
        "875705c64cdb4a19a435383c7da5ca11": {
          "model_module": "@jupyter-widgets/base",
          "model_name": "LayoutModel",
          "state": {
            "_view_name": "LayoutView",
            "grid_template_rows": null,
            "right": null,
            "justify_content": null,
            "_view_module": "@jupyter-widgets/base",
            "overflow": null,
            "_model_module_version": "1.2.0",
            "_view_count": null,
            "flex_flow": null,
            "width": null,
            "min_width": null,
            "border": null,
            "align_items": null,
            "bottom": null,
            "_model_module": "@jupyter-widgets/base",
            "top": null,
            "grid_column": null,
            "overflow_y": null,
            "overflow_x": null,
            "grid_auto_flow": null,
            "grid_area": null,
            "grid_template_columns": null,
            "flex": null,
            "_model_name": "LayoutModel",
            "justify_items": null,
            "grid_row": null,
            "max_height": null,
            "align_content": null,
            "visibility": null,
            "align_self": null,
            "height": null,
            "min_height": null,
            "padding": null,
            "grid_auto_rows": null,
            "grid_gap": null,
            "max_width": null,
            "order": null,
            "_view_module_version": "1.2.0",
            "grid_template_areas": null,
            "object_position": null,
            "object_fit": null,
            "grid_auto_columns": null,
            "margin": null,
            "display": null,
            "left": null
          },
          "model_module_version": "1.2.0"
        },
        "f0f06a9d44d842e8b1a9790e22233aa0": {
          "model_module": "@jupyter-widgets/controls",
          "model_name": "DescriptionStyleModel",
          "state": {
            "_view_name": "StyleView",
            "_model_name": "DescriptionStyleModel",
            "description_width": "",
            "_view_module": "@jupyter-widgets/base",
            "_model_module_version": "1.5.0",
            "_view_count": null,
            "_view_module_version": "1.2.0",
            "_model_module": "@jupyter-widgets/controls"
          },
          "model_module_version": "1.5.0"
        },
        "a0ecdaa21e3b4748ac0f4c465e51cdbf": {
          "model_module": "@jupyter-widgets/base",
          "model_name": "LayoutModel",
          "state": {
            "_view_name": "LayoutView",
            "grid_template_rows": null,
            "right": null,
            "justify_content": null,
            "_view_module": "@jupyter-widgets/base",
            "overflow": null,
            "_model_module_version": "1.2.0",
            "_view_count": null,
            "flex_flow": null,
            "width": null,
            "min_width": null,
            "border": null,
            "align_items": null,
            "bottom": null,
            "_model_module": "@jupyter-widgets/base",
            "top": null,
            "grid_column": null,
            "overflow_y": null,
            "overflow_x": null,
            "grid_auto_flow": null,
            "grid_area": null,
            "grid_template_columns": null,
            "flex": null,
            "_model_name": "LayoutModel",
            "justify_items": null,
            "grid_row": null,
            "max_height": null,
            "align_content": null,
            "visibility": null,
            "align_self": null,
            "height": null,
            "min_height": null,
            "padding": null,
            "grid_auto_rows": null,
            "grid_gap": null,
            "max_width": null,
            "order": null,
            "_view_module_version": "1.2.0",
            "grid_template_areas": null,
            "object_position": null,
            "object_fit": null,
            "grid_auto_columns": null,
            "margin": null,
            "display": null,
            "left": null
          },
          "model_module_version": "1.2.0"
        },
        "ca0ff0c6ff9d47038db959debbdaedfc": {
          "model_module": "@jupyter-widgets/controls",
          "model_name": "HBoxModel",
          "state": {
            "_view_name": "HBoxView",
            "_dom_classes": [],
            "_model_name": "HBoxModel",
            "_view_module": "@jupyter-widgets/controls",
            "_model_module_version": "1.5.0",
            "_view_count": null,
            "_view_module_version": "1.5.0",
            "box_style": "",
            "layout": "IPY_MODEL_56ca18c89a8440a3bc8eae26240659b9",
            "_model_module": "@jupyter-widgets/controls",
            "children": [
              "IPY_MODEL_524d4d4f842643039b2e7b3ba8d02744",
              "IPY_MODEL_3d611997a0c14a11a5752ea884289292"
            ]
          },
          "model_module_version": "1.5.0"
        },
        "56ca18c89a8440a3bc8eae26240659b9": {
          "model_module": "@jupyter-widgets/base",
          "model_name": "LayoutModel",
          "state": {
            "_view_name": "LayoutView",
            "grid_template_rows": null,
            "right": null,
            "justify_content": null,
            "_view_module": "@jupyter-widgets/base",
            "overflow": null,
            "_model_module_version": "1.2.0",
            "_view_count": null,
            "flex_flow": null,
            "width": null,
            "min_width": null,
            "border": null,
            "align_items": null,
            "bottom": null,
            "_model_module": "@jupyter-widgets/base",
            "top": null,
            "grid_column": null,
            "overflow_y": null,
            "overflow_x": null,
            "grid_auto_flow": null,
            "grid_area": null,
            "grid_template_columns": null,
            "flex": null,
            "_model_name": "LayoutModel",
            "justify_items": null,
            "grid_row": null,
            "max_height": null,
            "align_content": null,
            "visibility": null,
            "align_self": null,
            "height": null,
            "min_height": null,
            "padding": null,
            "grid_auto_rows": null,
            "grid_gap": null,
            "max_width": null,
            "order": null,
            "_view_module_version": "1.2.0",
            "grid_template_areas": null,
            "object_position": null,
            "object_fit": null,
            "grid_auto_columns": null,
            "margin": null,
            "display": null,
            "left": null
          },
          "model_module_version": "1.2.0"
        },
        "524d4d4f842643039b2e7b3ba8d02744": {
          "model_module": "@jupyter-widgets/controls",
          "model_name": "FloatProgressModel",
          "state": {
            "_view_name": "ProgressView",
            "style": "IPY_MODEL_9179d53713d041c39644d2116582f268",
            "_dom_classes": [],
            "description": "100%",
            "_model_name": "FloatProgressModel",
            "bar_style": "success",
            "max": 93,
            "_view_module": "@jupyter-widgets/controls",
            "_model_module_version": "1.5.0",
            "value": 93,
            "_view_count": null,
            "_view_module_version": "1.5.0",
            "orientation": "horizontal",
            "min": 0,
            "description_tooltip": null,
            "_model_module": "@jupyter-widgets/controls",
            "layout": "IPY_MODEL_ee3338cfec6a40cbae30032f7f53130b"
          },
          "model_module_version": "1.5.0"
        },
        "3d611997a0c14a11a5752ea884289292": {
          "model_module": "@jupyter-widgets/controls",
          "model_name": "HTMLModel",
          "state": {
            "_view_name": "HTMLView",
            "style": "IPY_MODEL_f2c873688beb4254bc879e6b119d64e7",
            "_dom_classes": [],
            "description": "",
            "_model_name": "HTMLModel",
            "placeholder": "​",
            "_view_module": "@jupyter-widgets/controls",
            "_model_module_version": "1.5.0",
            "value": " 93/93 [00:51&lt;00:00,  1.81it/s]",
            "_view_count": null,
            "_view_module_version": "1.5.0",
            "description_tooltip": null,
            "_model_module": "@jupyter-widgets/controls",
            "layout": "IPY_MODEL_2f2a56ddb71646e5aafcb0b9d455189a"
          },
          "model_module_version": "1.5.0"
        },
        "9179d53713d041c39644d2116582f268": {
          "model_module": "@jupyter-widgets/controls",
          "model_name": "ProgressStyleModel",
          "state": {
            "_view_name": "StyleView",
            "_model_name": "ProgressStyleModel",
            "description_width": "initial",
            "_view_module": "@jupyter-widgets/base",
            "_model_module_version": "1.5.0",
            "_view_count": null,
            "_view_module_version": "1.2.0",
            "bar_color": null,
            "_model_module": "@jupyter-widgets/controls"
          },
          "model_module_version": "1.5.0"
        },
        "ee3338cfec6a40cbae30032f7f53130b": {
          "model_module": "@jupyter-widgets/base",
          "model_name": "LayoutModel",
          "state": {
            "_view_name": "LayoutView",
            "grid_template_rows": null,
            "right": null,
            "justify_content": null,
            "_view_module": "@jupyter-widgets/base",
            "overflow": null,
            "_model_module_version": "1.2.0",
            "_view_count": null,
            "flex_flow": null,
            "width": null,
            "min_width": null,
            "border": null,
            "align_items": null,
            "bottom": null,
            "_model_module": "@jupyter-widgets/base",
            "top": null,
            "grid_column": null,
            "overflow_y": null,
            "overflow_x": null,
            "grid_auto_flow": null,
            "grid_area": null,
            "grid_template_columns": null,
            "flex": null,
            "_model_name": "LayoutModel",
            "justify_items": null,
            "grid_row": null,
            "max_height": null,
            "align_content": null,
            "visibility": null,
            "align_self": null,
            "height": null,
            "min_height": null,
            "padding": null,
            "grid_auto_rows": null,
            "grid_gap": null,
            "max_width": null,
            "order": null,
            "_view_module_version": "1.2.0",
            "grid_template_areas": null,
            "object_position": null,
            "object_fit": null,
            "grid_auto_columns": null,
            "margin": null,
            "display": null,
            "left": null
          },
          "model_module_version": "1.2.0"
        },
        "f2c873688beb4254bc879e6b119d64e7": {
          "model_module": "@jupyter-widgets/controls",
          "model_name": "DescriptionStyleModel",
          "state": {
            "_view_name": "StyleView",
            "_model_name": "DescriptionStyleModel",
            "description_width": "",
            "_view_module": "@jupyter-widgets/base",
            "_model_module_version": "1.5.0",
            "_view_count": null,
            "_view_module_version": "1.2.0",
            "_model_module": "@jupyter-widgets/controls"
          },
          "model_module_version": "1.5.0"
        },
        "2f2a56ddb71646e5aafcb0b9d455189a": {
          "model_module": "@jupyter-widgets/base",
          "model_name": "LayoutModel",
          "state": {
            "_view_name": "LayoutView",
            "grid_template_rows": null,
            "right": null,
            "justify_content": null,
            "_view_module": "@jupyter-widgets/base",
            "overflow": null,
            "_model_module_version": "1.2.0",
            "_view_count": null,
            "flex_flow": null,
            "width": null,
            "min_width": null,
            "border": null,
            "align_items": null,
            "bottom": null,
            "_model_module": "@jupyter-widgets/base",
            "top": null,
            "grid_column": null,
            "overflow_y": null,
            "overflow_x": null,
            "grid_auto_flow": null,
            "grid_area": null,
            "grid_template_columns": null,
            "flex": null,
            "_model_name": "LayoutModel",
            "justify_items": null,
            "grid_row": null,
            "max_height": null,
            "align_content": null,
            "visibility": null,
            "align_self": null,
            "height": null,
            "min_height": null,
            "padding": null,
            "grid_auto_rows": null,
            "grid_gap": null,
            "max_width": null,
            "order": null,
            "_view_module_version": "1.2.0",
            "grid_template_areas": null,
            "object_position": null,
            "object_fit": null,
            "grid_auto_columns": null,
            "margin": null,
            "display": null,
            "left": null
          },
          "model_module_version": "1.2.0"
        },
        "bb3e1b0958b34cb0a9ac4c6a797f86d7": {
          "model_module": "@jupyter-widgets/controls",
          "model_name": "HBoxModel",
          "state": {
            "_view_name": "HBoxView",
            "_dom_classes": [],
            "_model_name": "HBoxModel",
            "_view_module": "@jupyter-widgets/controls",
            "_model_module_version": "1.5.0",
            "_view_count": null,
            "_view_module_version": "1.5.0",
            "box_style": "",
            "layout": "IPY_MODEL_347f3bf0de524da0a9bef0b17552786d",
            "_model_module": "@jupyter-widgets/controls",
            "children": [
              "IPY_MODEL_acf0e7b57a90455b89b0298eb5e078f4",
              "IPY_MODEL_767b12201cbe4fbb85bb375f73da979f"
            ]
          },
          "model_module_version": "1.5.0"
        },
        "347f3bf0de524da0a9bef0b17552786d": {
          "model_module": "@jupyter-widgets/base",
          "model_name": "LayoutModel",
          "state": {
            "_view_name": "LayoutView",
            "grid_template_rows": null,
            "right": null,
            "justify_content": null,
            "_view_module": "@jupyter-widgets/base",
            "overflow": null,
            "_model_module_version": "1.2.0",
            "_view_count": null,
            "flex_flow": null,
            "width": null,
            "min_width": null,
            "border": null,
            "align_items": null,
            "bottom": null,
            "_model_module": "@jupyter-widgets/base",
            "top": null,
            "grid_column": null,
            "overflow_y": null,
            "overflow_x": null,
            "grid_auto_flow": null,
            "grid_area": null,
            "grid_template_columns": null,
            "flex": null,
            "_model_name": "LayoutModel",
            "justify_items": null,
            "grid_row": null,
            "max_height": null,
            "align_content": null,
            "visibility": null,
            "align_self": null,
            "height": null,
            "min_height": null,
            "padding": null,
            "grid_auto_rows": null,
            "grid_gap": null,
            "max_width": null,
            "order": null,
            "_view_module_version": "1.2.0",
            "grid_template_areas": null,
            "object_position": null,
            "object_fit": null,
            "grid_auto_columns": null,
            "margin": null,
            "display": null,
            "left": null
          },
          "model_module_version": "1.2.0"
        },
        "acf0e7b57a90455b89b0298eb5e078f4": {
          "model_module": "@jupyter-widgets/controls",
          "model_name": "FloatProgressModel",
          "state": {
            "_view_name": "ProgressView",
            "style": "IPY_MODEL_186c2fe632e54728aabd3d072950b37d",
            "_dom_classes": [],
            "description": "100%",
            "_model_name": "FloatProgressModel",
            "bar_style": "success",
            "max": 25,
            "_view_module": "@jupyter-widgets/controls",
            "_model_module_version": "1.5.0",
            "value": 25,
            "_view_count": null,
            "_view_module_version": "1.5.0",
            "orientation": "horizontal",
            "min": 0,
            "description_tooltip": null,
            "_model_module": "@jupyter-widgets/controls",
            "layout": "IPY_MODEL_69edcef179aa421fb99455a86f38dc78"
          },
          "model_module_version": "1.5.0"
        },
        "767b12201cbe4fbb85bb375f73da979f": {
          "model_module": "@jupyter-widgets/controls",
          "model_name": "HTMLModel",
          "state": {
            "_view_name": "HTMLView",
            "style": "IPY_MODEL_237a9f0d1b5940b7bbfea8106ff3fdca",
            "_dom_classes": [],
            "description": "",
            "_model_name": "HTMLModel",
            "placeholder": "​",
            "_view_module": "@jupyter-widgets/controls",
            "_model_module_version": "1.5.0",
            "value": " 25/25 [00:12&lt;00:00,  2.08it/s]",
            "_view_count": null,
            "_view_module_version": "1.5.0",
            "description_tooltip": null,
            "_model_module": "@jupyter-widgets/controls",
            "layout": "IPY_MODEL_5efe9f46197544ff9bca265a64a6a774"
          },
          "model_module_version": "1.5.0"
        },
        "186c2fe632e54728aabd3d072950b37d": {
          "model_module": "@jupyter-widgets/controls",
          "model_name": "ProgressStyleModel",
          "state": {
            "_view_name": "StyleView",
            "_model_name": "ProgressStyleModel",
            "description_width": "initial",
            "_view_module": "@jupyter-widgets/base",
            "_model_module_version": "1.5.0",
            "_view_count": null,
            "_view_module_version": "1.2.0",
            "bar_color": null,
            "_model_module": "@jupyter-widgets/controls"
          },
          "model_module_version": "1.5.0"
        },
        "69edcef179aa421fb99455a86f38dc78": {
          "model_module": "@jupyter-widgets/base",
          "model_name": "LayoutModel",
          "state": {
            "_view_name": "LayoutView",
            "grid_template_rows": null,
            "right": null,
            "justify_content": null,
            "_view_module": "@jupyter-widgets/base",
            "overflow": null,
            "_model_module_version": "1.2.0",
            "_view_count": null,
            "flex_flow": null,
            "width": null,
            "min_width": null,
            "border": null,
            "align_items": null,
            "bottom": null,
            "_model_module": "@jupyter-widgets/base",
            "top": null,
            "grid_column": null,
            "overflow_y": null,
            "overflow_x": null,
            "grid_auto_flow": null,
            "grid_area": null,
            "grid_template_columns": null,
            "flex": null,
            "_model_name": "LayoutModel",
            "justify_items": null,
            "grid_row": null,
            "max_height": null,
            "align_content": null,
            "visibility": null,
            "align_self": null,
            "height": null,
            "min_height": null,
            "padding": null,
            "grid_auto_rows": null,
            "grid_gap": null,
            "max_width": null,
            "order": null,
            "_view_module_version": "1.2.0",
            "grid_template_areas": null,
            "object_position": null,
            "object_fit": null,
            "grid_auto_columns": null,
            "margin": null,
            "display": null,
            "left": null
          },
          "model_module_version": "1.2.0"
        },
        "237a9f0d1b5940b7bbfea8106ff3fdca": {
          "model_module": "@jupyter-widgets/controls",
          "model_name": "DescriptionStyleModel",
          "state": {
            "_view_name": "StyleView",
            "_model_name": "DescriptionStyleModel",
            "description_width": "",
            "_view_module": "@jupyter-widgets/base",
            "_model_module_version": "1.5.0",
            "_view_count": null,
            "_view_module_version": "1.2.0",
            "_model_module": "@jupyter-widgets/controls"
          },
          "model_module_version": "1.5.0"
        },
        "5efe9f46197544ff9bca265a64a6a774": {
          "model_module": "@jupyter-widgets/base",
          "model_name": "LayoutModel",
          "state": {
            "_view_name": "LayoutView",
            "grid_template_rows": null,
            "right": null,
            "justify_content": null,
            "_view_module": "@jupyter-widgets/base",
            "overflow": null,
            "_model_module_version": "1.2.0",
            "_view_count": null,
            "flex_flow": null,
            "width": null,
            "min_width": null,
            "border": null,
            "align_items": null,
            "bottom": null,
            "_model_module": "@jupyter-widgets/base",
            "top": null,
            "grid_column": null,
            "overflow_y": null,
            "overflow_x": null,
            "grid_auto_flow": null,
            "grid_area": null,
            "grid_template_columns": null,
            "flex": null,
            "_model_name": "LayoutModel",
            "justify_items": null,
            "grid_row": null,
            "max_height": null,
            "align_content": null,
            "visibility": null,
            "align_self": null,
            "height": null,
            "min_height": null,
            "padding": null,
            "grid_auto_rows": null,
            "grid_gap": null,
            "max_width": null,
            "order": null,
            "_view_module_version": "1.2.0",
            "grid_template_areas": null,
            "object_position": null,
            "object_fit": null,
            "grid_auto_columns": null,
            "margin": null,
            "display": null,
            "left": null
          },
          "model_module_version": "1.2.0"
        },
        "c713bd0731b54aba90f1932bfff22adc": {
          "model_module": "@jupyter-widgets/controls",
          "model_name": "HBoxModel",
          "state": {
            "_view_name": "HBoxView",
            "_dom_classes": [],
            "_model_name": "HBoxModel",
            "_view_module": "@jupyter-widgets/controls",
            "_model_module_version": "1.5.0",
            "_view_count": null,
            "_view_module_version": "1.5.0",
            "box_style": "",
            "layout": "IPY_MODEL_25354be7185c4feca51f52a80a3ea4e3",
            "_model_module": "@jupyter-widgets/controls",
            "children": [
              "IPY_MODEL_5bc84049357a4e2291d995c56f7b6edf",
              "IPY_MODEL_97f51b6ac8654a0ca96584571c8f08fb"
            ]
          },
          "model_module_version": "1.5.0"
        },
        "25354be7185c4feca51f52a80a3ea4e3": {
          "model_module": "@jupyter-widgets/base",
          "model_name": "LayoutModel",
          "state": {
            "_view_name": "LayoutView",
            "grid_template_rows": null,
            "right": null,
            "justify_content": null,
            "_view_module": "@jupyter-widgets/base",
            "overflow": null,
            "_model_module_version": "1.2.0",
            "_view_count": null,
            "flex_flow": null,
            "width": null,
            "min_width": null,
            "border": null,
            "align_items": null,
            "bottom": null,
            "_model_module": "@jupyter-widgets/base",
            "top": null,
            "grid_column": null,
            "overflow_y": null,
            "overflow_x": null,
            "grid_auto_flow": null,
            "grid_area": null,
            "grid_template_columns": null,
            "flex": null,
            "_model_name": "LayoutModel",
            "justify_items": null,
            "grid_row": null,
            "max_height": null,
            "align_content": null,
            "visibility": null,
            "align_self": null,
            "height": null,
            "min_height": null,
            "padding": null,
            "grid_auto_rows": null,
            "grid_gap": null,
            "max_width": null,
            "order": null,
            "_view_module_version": "1.2.0",
            "grid_template_areas": null,
            "object_position": null,
            "object_fit": null,
            "grid_auto_columns": null,
            "margin": null,
            "display": null,
            "left": null
          },
          "model_module_version": "1.2.0"
        },
        "5bc84049357a4e2291d995c56f7b6edf": {
          "model_module": "@jupyter-widgets/controls",
          "model_name": "FloatProgressModel",
          "state": {
            "_view_name": "ProgressView",
            "style": "IPY_MODEL_9088a545efb04a719280f07b3f235e37",
            "_dom_classes": [],
            "description": "100%",
            "_model_name": "FloatProgressModel",
            "bar_style": "success",
            "max": 1,
            "_view_module": "@jupyter-widgets/controls",
            "_model_module_version": "1.5.0",
            "value": 1,
            "_view_count": null,
            "_view_module_version": "1.5.0",
            "orientation": "horizontal",
            "min": 0,
            "description_tooltip": null,
            "_model_module": "@jupyter-widgets/controls",
            "layout": "IPY_MODEL_4e70d0f4dc12409e96b9cd2b25500df1"
          },
          "model_module_version": "1.5.0"
        },
        "97f51b6ac8654a0ca96584571c8f08fb": {
          "model_module": "@jupyter-widgets/controls",
          "model_name": "HTMLModel",
          "state": {
            "_view_name": "HTMLView",
            "style": "IPY_MODEL_af6da3b2d10b4678bb24e0971716690c",
            "_dom_classes": [],
            "description": "",
            "_model_name": "HTMLModel",
            "placeholder": "​",
            "_view_module": "@jupyter-widgets/controls",
            "_model_module_version": "1.5.0",
            "value": " 1/1 [00:03&lt;00:00,  3.92s/it]",
            "_view_count": null,
            "_view_module_version": "1.5.0",
            "description_tooltip": null,
            "_model_module": "@jupyter-widgets/controls",
            "layout": "IPY_MODEL_294f84b4b45b480a88405fd881c07b12"
          },
          "model_module_version": "1.5.0"
        },
        "9088a545efb04a719280f07b3f235e37": {
          "model_module": "@jupyter-widgets/controls",
          "model_name": "ProgressStyleModel",
          "state": {
            "_view_name": "StyleView",
            "_model_name": "ProgressStyleModel",
            "description_width": "initial",
            "_view_module": "@jupyter-widgets/base",
            "_model_module_version": "1.5.0",
            "_view_count": null,
            "_view_module_version": "1.2.0",
            "bar_color": null,
            "_model_module": "@jupyter-widgets/controls"
          },
          "model_module_version": "1.5.0"
        },
        "4e70d0f4dc12409e96b9cd2b25500df1": {
          "model_module": "@jupyter-widgets/base",
          "model_name": "LayoutModel",
          "state": {
            "_view_name": "LayoutView",
            "grid_template_rows": null,
            "right": null,
            "justify_content": null,
            "_view_module": "@jupyter-widgets/base",
            "overflow": null,
            "_model_module_version": "1.2.0",
            "_view_count": null,
            "flex_flow": null,
            "width": null,
            "min_width": null,
            "border": null,
            "align_items": null,
            "bottom": null,
            "_model_module": "@jupyter-widgets/base",
            "top": null,
            "grid_column": null,
            "overflow_y": null,
            "overflow_x": null,
            "grid_auto_flow": null,
            "grid_area": null,
            "grid_template_columns": null,
            "flex": null,
            "_model_name": "LayoutModel",
            "justify_items": null,
            "grid_row": null,
            "max_height": null,
            "align_content": null,
            "visibility": null,
            "align_self": null,
            "height": null,
            "min_height": null,
            "padding": null,
            "grid_auto_rows": null,
            "grid_gap": null,
            "max_width": null,
            "order": null,
            "_view_module_version": "1.2.0",
            "grid_template_areas": null,
            "object_position": null,
            "object_fit": null,
            "grid_auto_columns": null,
            "margin": null,
            "display": null,
            "left": null
          },
          "model_module_version": "1.2.0"
        },
        "af6da3b2d10b4678bb24e0971716690c": {
          "model_module": "@jupyter-widgets/controls",
          "model_name": "DescriptionStyleModel",
          "state": {
            "_view_name": "StyleView",
            "_model_name": "DescriptionStyleModel",
            "description_width": "",
            "_view_module": "@jupyter-widgets/base",
            "_model_module_version": "1.5.0",
            "_view_count": null,
            "_view_module_version": "1.2.0",
            "_model_module": "@jupyter-widgets/controls"
          },
          "model_module_version": "1.5.0"
        },
        "294f84b4b45b480a88405fd881c07b12": {
          "model_module": "@jupyter-widgets/base",
          "model_name": "LayoutModel",
          "state": {
            "_view_name": "LayoutView",
            "grid_template_rows": null,
            "right": null,
            "justify_content": null,
            "_view_module": "@jupyter-widgets/base",
            "overflow": null,
            "_model_module_version": "1.2.0",
            "_view_count": null,
            "flex_flow": null,
            "width": null,
            "min_width": null,
            "border": null,
            "align_items": null,
            "bottom": null,
            "_model_module": "@jupyter-widgets/base",
            "top": null,
            "grid_column": null,
            "overflow_y": null,
            "overflow_x": null,
            "grid_auto_flow": null,
            "grid_area": null,
            "grid_template_columns": null,
            "flex": null,
            "_model_name": "LayoutModel",
            "justify_items": null,
            "grid_row": null,
            "max_height": null,
            "align_content": null,
            "visibility": null,
            "align_self": null,
            "height": null,
            "min_height": null,
            "padding": null,
            "grid_auto_rows": null,
            "grid_gap": null,
            "max_width": null,
            "order": null,
            "_view_module_version": "1.2.0",
            "grid_template_areas": null,
            "object_position": null,
            "object_fit": null,
            "grid_auto_columns": null,
            "margin": null,
            "display": null,
            "left": null
          },
          "model_module_version": "1.2.0"
        }
      }
    }
  },
  "cells": [
    {
      "cell_type": "markdown",
      "metadata": {
        "id": "GhqXaJRwE8d2"
      },
      "source": [
        "Para que funcione, se debe descargar el conjunto de datos desde el siguiente link\n",
        "https://drive.google.com/drive/folders/1n5D-D4Hd96d9foA17KO1LQCH6ds7UHcX?usp=sharing\n",
        "\n",
        "Luego, crear una carpeta en la raiz de la unidad de drive, con el nombre de data_ia y alli colocar la carpeta data.\n",
        "\n",
        "Enjoy"
      ]
    },
    {
      "cell_type": "code",
      "metadata": {
        "colab": {
          "base_uri": "https://localhost:8080/"
        },
        "id": "Vn9rMeLIav1R",
        "outputId": "8ecc122e-d8ed-42aa-8f3e-844b62c3650f"
      },
      "source": [
        "from google.colab import drive\n",
        "drive.mount('/content/drive')"
      ],
      "execution_count": null,
      "outputs": [
        {
          "output_type": "stream",
          "text": [
            "Drive already mounted at /content/drive; to attempt to forcibly remount, call drive.mount(\"/content/drive\", force_remount=True).\n"
          ],
          "name": "stdout"
        }
      ]
    },
    {
      "cell_type": "code",
      "metadata": {
        "id": "nGfHSZ0ZJocB"
      },
      "source": [
        "#!pip install gdown\n",
        "\n",
        "url = 'https://drive.google.com/uc?id=1yBoQkSuNUQg0b2jtqSug3Z6QVVwID-wC'\n"
      ],
      "execution_count": null,
      "outputs": []
    },
    {
      "cell_type": "code",
      "metadata": {
        "colab": {
          "base_uri": "https://localhost:8080/"
        },
        "id": "OjR5HWpzMPgq",
        "outputId": "09d9b3c1-f6f2-4dd2-b327-fb59876e4c7b"
      },
      "source": [
        "import gdown\n",
        "gdown.download(url,output=\"data\", quiet=False)"
      ],
      "execution_count": null,
      "outputs": [
        {
          "output_type": "stream",
          "text": [
            "Permission denied: https://drive.google.com/uc?id=1yBoQkSuNUQg0b2jtqSug3Z6QVVwID-wC\n",
            "Maybe you need to change permission over 'Anyone with the link'?\n"
          ],
          "name": "stderr"
        }
      ]
    },
    {
      "cell_type": "code",
      "metadata": {
        "colab": {
          "base_uri": "https://localhost:8080/"
        },
        "id": "TywbiK3a-qxX",
        "outputId": "1acd504f-f44c-47d2-8a24-8238009080ef"
      },
      "source": [
        "## Para que funcione se debe activar drive a mano\n",
        "path = '/content/drive/MyDrive/data_ia/data/'\n",
        "!wget https://raw.githubusercontent.com/inteligenciafrvm/inteligenciafrvm/master/Clases%20pr%C3%A1cticas/funciones_utiles.py"
      ],
      "execution_count": null,
      "outputs": [
        {
          "output_type": "stream",
          "text": [
            "--2021-06-11 00:21:56--  https://raw.githubusercontent.com/inteligenciafrvm/inteligenciafrvm/master/Clases%20pr%C3%A1cticas/funciones_utiles.py\n",
            "Resolving raw.githubusercontent.com (raw.githubusercontent.com)... 185.199.108.133, 185.199.109.133, 185.199.110.133, ...\n",
            "Connecting to raw.githubusercontent.com (raw.githubusercontent.com)|185.199.108.133|:443... connected.\n",
            "HTTP request sent, awaiting response... 200 OK\n",
            "Length: 4786 (4.7K) [text/plain]\n",
            "Saving to: ‘funciones_utiles.py.2’\n",
            "\n",
            "funciones_utiles.py 100%[===================>]   4.67K  --.-KB/s    in 0s      \n",
            "\n",
            "2021-06-11 00:21:57 (49.2 MB/s) - ‘funciones_utiles.py.2’ saved [4786/4786]\n",
            "\n"
          ],
          "name": "stdout"
        }
      ]
    },
    {
      "cell_type": "code",
      "metadata": {
        "id": "k12hPOFN-tYt",
        "outputId": "dae1ed6f-a4ca-475e-d62a-c949087890a2",
        "colab": {
          "base_uri": "https://localhost:8080/",
          "height": 368
        }
      },
      "source": [
        "import numpy as np\n",
        "import matplotlib.pyplot as plt\n",
        "import os\n",
        "import torch\n",
        "import torchvision\n",
        "\n",
        "from torchvision import models\n",
        "from tqdm import tqdm_notebook as progressbar\n",
        "from torchvision.datasets import ImageFolder\n",
        "from torchvision.utils import make_grid\n",
        "from torchvision import transforms\n",
        "from torch.utils.data import DataLoader\n",
        "from funciones_utiles import imshow_tensor\n",
        "import torch\n",
        "from torch import nn\n",
        "from torchvision import models\n",
        "from tqdm import tqdm_notebook as progressbar\n",
        "from sklearn.ensemble import RandomForestClassifier\n",
        "import torch.optim as optim\n",
        "from skimage import io\n",
        "from funciones_utiles import imshow\n",
        "from torchvision.datasets.utils import download_and_extract_archive\n",
        "import cv2\n",
        "from PIL import Image\n",
        "from scipy import misc"
      ],
      "execution_count": null,
      "outputs": [
        {
          "output_type": "error",
          "ename": "ModuleNotFoundError",
          "evalue": "ignored",
          "traceback": [
            "\u001b[0;31m---------------------------------------------------------------------------\u001b[0m",
            "\u001b[0;31mModuleNotFoundError\u001b[0m                       Traceback (most recent call last)",
            "\u001b[0;32m<ipython-input-1-61b96fd9a206>\u001b[0m in \u001b[0;36m<module>\u001b[0;34m()\u001b[0m\n\u001b[1;32m     11\u001b[0m \u001b[0;32mfrom\u001b[0m \u001b[0mtorchvision\u001b[0m \u001b[0;32mimport\u001b[0m \u001b[0mtransforms\u001b[0m\u001b[0;34m\u001b[0m\u001b[0;34m\u001b[0m\u001b[0m\n\u001b[1;32m     12\u001b[0m \u001b[0;32mfrom\u001b[0m \u001b[0mtorch\u001b[0m\u001b[0;34m.\u001b[0m\u001b[0mutils\u001b[0m\u001b[0;34m.\u001b[0m\u001b[0mdata\u001b[0m \u001b[0;32mimport\u001b[0m \u001b[0mDataLoader\u001b[0m\u001b[0;34m\u001b[0m\u001b[0;34m\u001b[0m\u001b[0m\n\u001b[0;32m---> 13\u001b[0;31m \u001b[0;32mfrom\u001b[0m \u001b[0mfunciones_utiles\u001b[0m \u001b[0;32mimport\u001b[0m \u001b[0mimshow_tensor\u001b[0m\u001b[0;34m\u001b[0m\u001b[0;34m\u001b[0m\u001b[0m\n\u001b[0m\u001b[1;32m     14\u001b[0m \u001b[0;32mimport\u001b[0m \u001b[0mtorch\u001b[0m\u001b[0;34m\u001b[0m\u001b[0;34m\u001b[0m\u001b[0m\n\u001b[1;32m     15\u001b[0m \u001b[0;32mfrom\u001b[0m \u001b[0mtorch\u001b[0m \u001b[0;32mimport\u001b[0m \u001b[0mnn\u001b[0m\u001b[0;34m\u001b[0m\u001b[0;34m\u001b[0m\u001b[0m\n",
            "\u001b[0;31mModuleNotFoundError\u001b[0m: No module named 'funciones_utiles'",
            "",
            "\u001b[0;31m---------------------------------------------------------------------------\u001b[0;32m\nNOTE: If your import is failing due to a missing package, you can\nmanually install dependencies using either !pip or !apt.\n\nTo view examples of installing some common dependencies, click the\n\"Open Examples\" button below.\n\u001b[0;31m---------------------------------------------------------------------------\u001b[0m\n"
          ],
          "errorDetails": {
            "actions": [
              {
                "action": "open_url",
                "actionText": "Open Examples",
                "url": "/notebooks/snippets/importing_libraries.ipynb"
              }
            ]
          }
        }
      ]
    },
    {
      "cell_type": "code",
      "metadata": {
        "id": "TbwNjLnLCOCy"
      },
      "source": [
        "\n",
        "batch_size = 4\n",
        "num_workers = 2\n",
        "transform = transforms.Compose([\n",
        "    transforms.Resize(256),\n",
        "    transforms.CenterCrop(224),\n",
        "    transforms.ToTensor(),\n",
        "    transforms.RandomVerticalFlip(),\n",
        "    transforms.Normalize([0.485, 0.456, 0.406], [0.229, 0.224, 0.225])\n",
        "])\n"
      ],
      "execution_count": null,
      "outputs": []
    },
    {
      "cell_type": "code",
      "metadata": {
        "colab": {
          "base_uri": "https://localhost:8080/",
          "height": 187
        },
        "id": "SqCRQlGXED0_",
        "outputId": "ad68899c-c73e-4633-bbd7-fb476adbfcd1"
      },
      "source": [
        "# dataset\n",
        "data = ImageFolder(os.path.join(path, 'train'), transform)\n",
        "\n",
        "# data loader\n",
        "loader = DataLoader(data, batch_size=batch_size, shuffle=True, num_workers=num_workers)\n",
        "\n",
        "image_batch, labels = next(iter(loader))\n",
        "print(image_batch.size())\n",
        "print(labels)\n",
        "print([data.classes[lbl] for lbl in labels])\n",
        "grid = make_grid(image_batch)\n",
        "imshow_tensor(grid)"
      ],
      "execution_count": null,
      "outputs": [
        {
          "output_type": "stream",
          "text": [
            "torch.Size([4, 3, 224, 224])\n",
            "tensor([4, 3, 2, 0])\n",
            "['mindy_kaling', 'madonna', 'jerry_seinfeld', 'ben_afflek']\n"
          ],
          "name": "stdout"
        },
        {
          "output_type": "display_data",
          "data": {
            "image/png": "[encoded data removed]",
            "text/plain": [
              "<Figure size 432x288 with 1 Axes>"
            ]
          },
          "metadata": {
            "tags": [],
            "needs_background": "light"
          }
        }
      ]
    },
    {
      "cell_type": "code",
      "metadata": {
        "id": "8fE-yYJPGNC5"
      },
      "source": [
        "\n",
        "\n",
        "class FeatureExtractor(nn.Module):\n",
        "    def __init__(self):        \n",
        "        super().__init__()\n",
        "        # leer red pre-entrenada\n",
        "        model = models.resnet18(pretrained=True)\n",
        "        \n",
        "        # congelamos los parámetros\n",
        "        for p in model.parameters():\n",
        "            p.requires_grad_(False)\n",
        "            \n",
        "        # armamos modelo secuencial que incluya todas las capas salvo la última (fc)\n",
        "        layers = list(model.children())[:-1] # quitamos la última capa\n",
        "        self.net = nn.Sequential(*layers) \n",
        "        \n",
        "    def forward(self, x):        \n",
        "        N = x.size(0)  # batch size\n",
        "        x = self.net(x)\n",
        "        return x.view(N, -1) # redimensionamos la salida para adaptarla a nuestro modelo"
      ],
      "execution_count": null,
      "outputs": []
    },
    {
      "cell_type": "code",
      "metadata": {
        "id": "q-n-abJlGbTh"
      },
      "source": [
        "def features_and_labels(set_):\n",
        "    if set_ not in ('train', 'val'):\n",
        "        raise ValueError('not a valid data set')\n",
        "        \n",
        "    transform = transforms.Compose([    \n",
        "        transforms.Resize(256),\n",
        "        transforms.ToTensor(),\n",
        "        transforms.Normalize([0.485, 0.456, 0.406], [0.229, 0.224, 0.225])\n",
        "    ])\n",
        "    \n",
        "    data = ImageFolder(os.path.join(path, set_), transform)\n",
        "    \n",
        "    loader = DataLoader(data, batch_size=1, shuffle=False, num_workers=0)\n",
        "    \n",
        "    extractor = FeatureExtractor()\n",
        "    extractor.eval()\n",
        "    \n",
        "    features, labels = [], []\n",
        "    \n",
        "    for img, lbl in progressbar(loader):\n",
        "        feat = extractor(img)  \n",
        "        features.append(feat)\n",
        "        labels.append(lbl)\n",
        "\n",
        "    features = torch.cat(features, dim=0)\n",
        "    labels = torch.cat(labels, dim=0)\n",
        "    \n",
        "    return features, labels"
      ],
      "execution_count": null,
      "outputs": []
    },
    {
      "cell_type": "code",
      "metadata": {
        "id": "Dr-s59j0GdyJ",
        "colab": {
          "base_uri": "https://localhost:8080/",
          "height": 232,
          "referenced_widgets": [
            "6bb2032b9afd45b9b19a77ca7b605537",
            "6fc537c23c8f447dacde0cc3fdcd6e74",
            "0fe4e1b9b3e3480cbcd430c246b5c407",
            "574abef32ba84eff8e3e5ec597cb0d5a",
            "cb4d1e40afad496aabc8ceb5a6e17e21",
            "875705c64cdb4a19a435383c7da5ca11",
            "f0f06a9d44d842e8b1a9790e22233aa0",
            "a0ecdaa21e3b4748ac0f4c465e51cdbf",
            "ca0ff0c6ff9d47038db959debbdaedfc",
            "56ca18c89a8440a3bc8eae26240659b9",
            "524d4d4f842643039b2e7b3ba8d02744",
            "3d611997a0c14a11a5752ea884289292",
            "9179d53713d041c39644d2116582f268",
            "ee3338cfec6a40cbae30032f7f53130b",
            "f2c873688beb4254bc879e6b119d64e7",
            "2f2a56ddb71646e5aafcb0b9d455189a",
            "bb3e1b0958b34cb0a9ac4c6a797f86d7",
            "347f3bf0de524da0a9bef0b17552786d",
            "acf0e7b57a90455b89b0298eb5e078f4",
            "767b12201cbe4fbb85bb375f73da979f",
            "186c2fe632e54728aabd3d072950b37d",
            "69edcef179aa421fb99455a86f38dc78",
            "237a9f0d1b5940b7bbfea8106ff3fdca",
            "5efe9f46197544ff9bca265a64a6a774"
          ]
        },
        "outputId": "7178fe26-1f0b-49e5-96b0-03ecfa7c3400"
      },
      "source": [
        "train_features, train_labels = features_and_labels('train')\n",
        "val_features, val_labels = features_and_labels('val')\n",
        "print(train_features.size(), val_features.size())"
      ],
      "execution_count": null,
      "outputs": [
        {
          "output_type": "stream",
          "text": [
            "Downloading: \"https://download.pytorch.org/models/resnet18-5c106cde.pth\" to /root/.cache/torch/hub/checkpoints/resnet18-5c106cde.pth\n"
          ],
          "name": "stderr"
        },
        {
          "output_type": "display_data",
          "data": {
            "application/vnd.jupyter.widget-view+json": {
              "model_id": "6bb2032b9afd45b9b19a77ca7b605537",
              "version_minor": 0,
              "version_major": 2
            },
            "text/plain": [
              "HBox(children=(FloatProgress(value=0.0, max=46827520.0), HTML(value='')))"
            ]
          },
          "metadata": {
            "tags": []
          }
        },
        {
          "output_type": "stream",
          "text": [
            "\n"
          ],
          "name": "stdout"
        },
        {
          "output_type": "stream",
          "text": [
            "/usr/local/lib/python3.7/dist-packages/ipykernel_launcher.py:20: TqdmDeprecationWarning: This function will be removed in tqdm==5.0.0\n",
            "Please use `tqdm.notebook.tqdm` instead of `tqdm.tqdm_notebook`\n"
          ],
          "name": "stderr"
        },
        {
          "output_type": "display_data",
          "data": {
            "application/vnd.jupyter.widget-view+json": {
              "model_id": "ca0ff0c6ff9d47038db959debbdaedfc",
              "version_minor": 0,
              "version_major": 2
            },
            "text/plain": [
              "HBox(children=(FloatProgress(value=0.0, max=93.0), HTML(value='')))"
            ]
          },
          "metadata": {
            "tags": []
          }
        },
        {
          "output_type": "stream",
          "text": [
            "\n"
          ],
          "name": "stdout"
        },
        {
          "output_type": "display_data",
          "data": {
            "application/vnd.jupyter.widget-view+json": {
              "model_id": "bb3e1b0958b34cb0a9ac4c6a797f86d7",
              "version_minor": 0,
              "version_major": 2
            },
            "text/plain": [
              "HBox(children=(FloatProgress(value=0.0, max=25.0), HTML(value='')))"
            ]
          },
          "metadata": {
            "tags": []
          }
        },
        {
          "output_type": "stream",
          "text": [
            "\n",
            "torch.Size([93, 512]) torch.Size([25, 512])\n"
          ],
          "name": "stdout"
        }
      ]
    },
    {
      "cell_type": "code",
      "metadata": {
        "id": "k-afiPUBGg3T",
        "colab": {
          "base_uri": "https://localhost:8080/"
        },
        "outputId": "2b3b000e-8dbf-4cfa-fac0-9370e1056355"
      },
      "source": [
        "x_train, y_train = train_features.cpu().numpy(), train_labels.cpu().numpy().reshape(-1, 1)\n",
        "x_test, y_test = val_features.cpu().numpy(), val_labels.cpu().numpy().reshape(-1, 1)\n",
        "\n",
        "\n",
        "print(x_train.shape, y_train.shape)\n",
        "print(x_test.shape, y_test.shape)\n"
      ],
      "execution_count": null,
      "outputs": [
        {
          "output_type": "stream",
          "text": [
            "(93, 512) (93, 1)\n",
            "(25, 512) (25, 1)\n"
          ],
          "name": "stdout"
        }
      ]
    },
    {
      "cell_type": "code",
      "metadata": {
        "id": "fmPKHPiVG1l0",
        "colab": {
          "base_uri": "https://localhost:8080/"
        },
        "outputId": "e01caf20-c6c1-4ff8-dac6-ac5b789be630"
      },
      "source": [
        "class Net(nn.Module):\n",
        "    def __init__(self):\n",
        "        super(Net, self).__init__()\n",
        "    \n",
        "        # interfaz de nn.Conv2d:\n",
        "        # nn.Conv2d(in_channels, out_channels, kernel_size, stride=1, padding=0) \n",
        "        self.conv1 = nn.Conv2d(3, 6, 5)\n",
        "        # nn.MaxPool2d(kernel_size, stride=None, padding=0)\n",
        "        self.pool = nn.MaxPool2d(2, 2) \n",
        "        self.conv2 = nn.Conv2d(6, 16, 5)\n",
        "        \n",
        "        # 16 canales de salida * 5 alto de la imagen * 5 ancho de la imagen\n",
        "        self.fc1 = nn.Linear(16 * 5 * 5, 120)  \n",
        "        self.fc2 = nn.Linear(120, 84)\n",
        "        self.fc3 = nn.Linear(84, 10)\n",
        "\n",
        "    def forward(self, x):\n",
        "        x = self.pool(F.relu(self.conv1(x)))\n",
        "        x = self.pool(F.relu(self.conv2(x)))\n",
        "        x = x.view(-1, 16 * 5 * 5)\n",
        "        x = F.relu(self.fc1(x))\n",
        "        x = F.relu(self.fc2(x))\n",
        "        x = self.fc3(x)\n",
        "        return x\n",
        "\n",
        "\n",
        "net = Net()\n",
        "print(net)"
      ],
      "execution_count": null,
      "outputs": [
        {
          "output_type": "stream",
          "text": [
            "Net(\n",
            "  (conv1): Conv2d(3, 6, kernel_size=(5, 5), stride=(1, 1))\n",
            "  (pool): MaxPool2d(kernel_size=2, stride=2, padding=0, dilation=1, ceil_mode=False)\n",
            "  (conv2): Conv2d(6, 16, kernel_size=(5, 5), stride=(1, 1))\n",
            "  (fc1): Linear(in_features=400, out_features=120, bias=True)\n",
            "  (fc2): Linear(in_features=120, out_features=84, bias=True)\n",
            "  (fc3): Linear(in_features=84, out_features=10, bias=True)\n",
            ")\n"
          ],
          "name": "stdout"
        }
      ]
    },
    {
      "cell_type": "code",
      "metadata": {
        "id": "8ZmAV4g49KhH",
        "colab": {
          "base_uri": "https://localhost:8080/"
        },
        "outputId": "c93d559f-b677-4d03-d48d-10efa6b961dd"
      },
      "source": [
        "classif_RF = RandomForestClassifier(max_depth=2, random_state=0)\n",
        "classif_RF.fit(x_train, y_train)"
      ],
      "execution_count": null,
      "outputs": [
        {
          "output_type": "stream",
          "text": [
            "/usr/local/lib/python3.7/dist-packages/ipykernel_launcher.py:2: DataConversionWarning: A column-vector y was passed when a 1d array was expected. Please change the shape of y to (n_samples,), for example using ravel().\n",
            "  \n"
          ],
          "name": "stderr"
        },
        {
          "output_type": "execute_result",
          "data": {
            "text/plain": [
              "RandomForestClassifier(bootstrap=True, ccp_alpha=0.0, class_weight=None,\n",
              "                       criterion='gini', max_depth=2, max_features='auto',\n",
              "                       max_leaf_nodes=None, max_samples=None,\n",
              "                       min_impurity_decrease=0.0, min_impurity_split=None,\n",
              "                       min_samples_leaf=1, min_samples_split=2,\n",
              "                       min_weight_fraction_leaf=0.0, n_estimators=100,\n",
              "                       n_jobs=None, oob_score=False, random_state=0, verbose=0,\n",
              "                       warm_start=False)"
            ]
          },
          "metadata": {
            "tags": []
          },
          "execution_count": 29
        }
      ]
    },
    {
      "cell_type": "code",
      "metadata": {
        "id": "NPHKHdnS9kcS",
        "colab": {
          "base_uri": "https://localhost:8080/"
        },
        "outputId": "50a0c669-5a31-48c1-da03-0ca65e44d1ca"
      },
      "source": [
        "print(\"El porcentaje de aciertos para Random Forest es: \" + str(round(classif_RF.score(x_test,y_test),6)*100) + \"%\")"
      ],
      "execution_count": null,
      "outputs": [
        {
          "output_type": "stream",
          "text": [
            "El porcentaje de aciertos para Random Forest es: 60.0%\n"
          ],
          "name": "stdout"
        }
      ]
    },
    {
      "cell_type": "code",
      "metadata": {
        "id": "Yi7vyvYNATpN",
        "colab": {
          "base_uri": "https://localhost:8080/"
        },
        "outputId": "a5311d01-6016-404e-9c5d-9862caf760c8"
      },
      "source": [
        "x_train.shape"
      ],
      "execution_count": null,
      "outputs": [
        {
          "output_type": "execute_result",
          "data": {
            "text/plain": [
              "(93, 512)"
            ]
          },
          "metadata": {
            "tags": []
          },
          "execution_count": 31
        }
      ]
    },
    {
      "cell_type": "code",
      "metadata": {
        "id": "256DsiQB92Qd",
        "colab": {
          "base_uri": "https://localhost:8080/"
        },
        "outputId": "c6ed32fb-b3bf-433d-ac1f-5a2a458df065"
      },
      "source": [
        "y_pred = classif_RF.predict(x_test)\n",
        "y_pred"
      ],
      "execution_count": null,
      "outputs": [
        {
          "output_type": "execute_result",
          "data": {
            "text/plain": [
              "array([4, 2, 2, 4, 2, 2, 1, 2, 2, 1, 2, 2, 2, 2, 2, 3, 3, 3, 3, 4, 3, 4,\n",
              "       4, 4, 4])"
            ]
          },
          "metadata": {
            "tags": []
          },
          "execution_count": 32
        }
      ]
    },
    {
      "cell_type": "markdown",
      "metadata": {
        "id": "vdujHaMjAbCo"
      },
      "source": [
        "Carga de imagen de prueba\n"
      ]
    },
    {
      "cell_type": "code",
      "metadata": {
        "id": "BuZP_PcyBN9j",
        "colab": {
          "base_uri": "https://localhost:8080/"
        },
        "outputId": "c5415ed5-eaec-4be0-d2d3-5bebf727c350"
      },
      "source": [
        "\n",
        "transform = transforms.Compose([\n",
        "    transforms.Resize(256),\n",
        "    transforms.CenterCrop(224),\n",
        "    transforms.ToTensor(),\n",
        "    \n",
        "    transforms.Normalize([0.485, 0.456, 0.406], [0.229, 0.224, 0.225])\n",
        "])\n",
        "data = ImageFolder(os.path.join(path, 'val_3'), transform)\n",
        "print(data)"
      ],
      "execution_count": null,
      "outputs": [
        {
          "output_type": "stream",
          "text": [
            "Dataset ImageFolder\n",
            "    Number of datapoints: 1\n",
            "    Root location: /content/drive/MyDrive/data_ia/data/val_3\n",
            "    StandardTransform\n",
            "Transform: Compose(\n",
            "               Resize(size=256, interpolation=bilinear)\n",
            "               CenterCrop(size=(224, 224))\n",
            "               ToTensor()\n",
            "               Normalize(mean=[0.485, 0.456, 0.406], std=[0.229, 0.224, 0.225])\n",
            "           )\n"
          ],
          "name": "stdout"
        }
      ]
    },
    {
      "cell_type": "code",
      "metadata": {
        "id": "KWxosbZ9DTmJ",
        "colab": {
          "base_uri": "https://localhost:8080/"
        },
        "outputId": "ed7844ee-33f3-4b11-8b16-17a53fac6637"
      },
      "source": [
        "loader = DataLoader(data, batch_size=1, shuffle=False, num_workers=0)\n",
        "loader"
      ],
      "execution_count": null,
      "outputs": [
        {
          "output_type": "execute_result",
          "data": {
            "text/plain": [
              "<torch.utils.data.dataloader.DataLoader at 0x7f2fb4691550>"
            ]
          },
          "metadata": {
            "tags": []
          },
          "execution_count": 66
        }
      ]
    },
    {
      "cell_type": "code",
      "metadata": {
        "id": "hZrRl2pkNtnP",
        "colab": {
          "base_uri": "https://localhost:8080/"
        },
        "outputId": "a352b3b1-603a-4474-ff36-550f139fb4a6"
      },
      "source": [
        "image_batch, labels = next(iter(loader))\n",
        "image_batch"
      ],
      "execution_count": null,
      "outputs": [
        {
          "output_type": "execute_result",
          "data": {
            "text/plain": [
              "tensor([[[[-0.7993, -0.7993, -1.0048,  ..., -0.6623, -0.6109, -0.5938],\n",
              "          [-0.7822, -0.7993, -1.0048,  ..., -0.6452, -0.5938, -0.6109],\n",
              "          [-0.7822, -0.8164, -1.0048,  ..., -0.6794, -0.6109, -0.5938],\n",
              "          ...,\n",
              "          [-0.8678, -0.8335, -0.8335,  ...,  1.1529,  0.4166, -0.9705],\n",
              "          [-0.7993, -0.8335, -0.8678,  ...,  1.1358,  0.5193, -0.9363],\n",
              "          [-0.8335, -0.8507, -0.8678,  ...,  1.1700,  0.5878, -0.9020]],\n",
              "\n",
              "         [[-0.7402, -0.7402, -0.8978,  ..., -0.7052, -0.6527, -0.6176],\n",
              "          [-0.7227, -0.7577, -0.9153,  ..., -0.6877, -0.6527, -0.6176],\n",
              "          [-0.7227, -0.7752, -0.8978,  ..., -0.7227, -0.6527, -0.5826],\n",
              "          ...,\n",
              "          [-0.7402, -0.6527, -0.6527,  ...,  0.9580,  0.3102, -0.8978],\n",
              "          [-0.6527, -0.6352, -0.6527,  ...,  0.9580,  0.3803, -0.8803],\n",
              "          [-0.6352, -0.6176, -0.6176,  ...,  0.9930,  0.4503, -0.8452]],\n",
              "\n",
              "         [[-0.7064, -0.7064, -0.8110,  ..., -0.6541, -0.6193, -0.5844],\n",
              "          [-0.6890, -0.6890, -0.7936,  ..., -0.6367, -0.6018, -0.5844],\n",
              "          [-0.6890, -0.6890, -0.7587,  ..., -0.6890, -0.6193, -0.5670],\n",
              "          ...,\n",
              "          [-0.5147, -0.4275, -0.4275,  ...,  1.0888,  0.4614, -0.7064],\n",
              "          [-0.3927, -0.4101, -0.4101,  ...,  1.0888,  0.5485, -0.6541],\n",
              "          [-0.4101, -0.3927, -0.3927,  ...,  1.1237,  0.6182, -0.5844]]]])"
            ]
          },
          "metadata": {
            "tags": []
          },
          "execution_count": 67
        }
      ]
    },
    {
      "cell_type": "code",
      "metadata": {
        "colab": {
          "base_uri": "https://localhost:8080/",
          "height": 320
        },
        "id": "fqJk82i4eUnt",
        "outputId": "dc340966-c23f-4c9a-e8e3-0e7dd2b67303"
      },
      "source": [
        "print(image_batch.size())\n",
        "print(labels)\n",
        "print([data.classes[lbl] for lbl in labels])\n",
        "grid = make_grid(image_batch)\n",
        "imshow_tensor(grid)"
      ],
      "execution_count": null,
      "outputs": [
        {
          "output_type": "stream",
          "text": [
            "torch.Size([1, 3, 224, 224])\n",
            "tensor([0])\n",
            "['clasif']\n"
          ],
          "name": "stdout"
        },
        {
          "output_type": "display_data",
          "data": {
            "image/png": "[encoded data removed]",
            "text/plain": [
              "<Figure size 432x288 with 1 Axes>"
            ]
          },
          "metadata": {
            "tags": [],
            "needs_background": "light"
          }
        }
      ]
    },
    {
      "cell_type": "code",
      "metadata": {
        "colab": {
          "base_uri": "https://localhost:8080/",
          "height": 117,
          "referenced_widgets": [
            "c713bd0731b54aba90f1932bfff22adc",
            "25354be7185c4feca51f52a80a3ea4e3",
            "5bc84049357a4e2291d995c56f7b6edf",
            "97f51b6ac8654a0ca96584571c8f08fb",
            "9088a545efb04a719280f07b3f235e37",
            "4e70d0f4dc12409e96b9cd2b25500df1",
            "af6da3b2d10b4678bb24e0971716690c",
            "294f84b4b45b480a88405fd881c07b12"
          ]
        },
        "id": "kI4MOeSUenSc",
        "outputId": "be956538-8253-4a2c-dcbc-7020448393a3"
      },
      "source": [
        "extractor = FeatureExtractor()\n",
        "extractor.eval()\n",
        "\n",
        "features, labels = [], []\n",
        "\n",
        "for img, lbl in progressbar(loader):\n",
        "    feat = extractor(img)  \n",
        "    features.append(feat)\n",
        "    labels.append(lbl)\n",
        "\n",
        "features = torch.cat(features, dim=0)\n",
        "labels = torch.cat(labels, dim=0)"
      ],
      "execution_count": null,
      "outputs": [
        {
          "output_type": "stream",
          "text": [
            "/usr/local/lib/python3.7/dist-packages/ipykernel_launcher.py:6: TqdmDeprecationWarning: This function will be removed in tqdm==5.0.0\n",
            "Please use `tqdm.notebook.tqdm` instead of `tqdm.tqdm_notebook`\n",
            "  \n"
          ],
          "name": "stderr"
        },
        {
          "output_type": "display_data",
          "data": {
            "application/vnd.jupyter.widget-view+json": {
              "model_id": "c713bd0731b54aba90f1932bfff22adc",
              "version_minor": 0,
              "version_major": 2
            },
            "text/plain": [
              "HBox(children=(FloatProgress(value=0.0, max=1.0), HTML(value='')))"
            ]
          },
          "metadata": {
            "tags": []
          }
        },
        {
          "output_type": "stream",
          "text": [
            "\n"
          ],
          "name": "stdout"
        }
      ]
    },
    {
      "cell_type": "code",
      "metadata": {
        "colab": {
          "base_uri": "https://localhost:8080/"
        },
        "id": "0Vw8NuUPfA93",
        "outputId": "c5004fce-a279-45cd-e4b7-e1007948adc8"
      },
      "source": [
        "x = features.cpu().numpy()\n",
        "x"
      ],
      "execution_count": null,
      "outputs": [
        {
          "output_type": "execute_result",
          "data": {
            "text/plain": [
              "array([[6.07144356e-01, 2.15924668e+00, 2.24823380e+00, 3.54433537e-01,\n",
              "        5.09636223e-01, 2.76658207e-01, 2.27954358e-01, 9.06305015e-01,\n",
              "        5.12607694e-01, 1.87655926e+00, 5.53850606e-02, 1.70594871e-01,\n",
              "        4.49028105e-01, 3.25240761e-01, 9.09129679e-01, 9.22165692e-01,\n",
              "        1.47640026e+00, 3.38301854e-03, 9.07900453e-01, 6.02458775e-01,\n",
              "        2.93329388e-01, 1.02113652e+00, 1.52543890e+00, 5.34217119e-01,\n",
              "        1.45795631e+00, 2.08922595e-01, 8.54721665e-01, 1.75015354e+00,\n",
              "        2.97947526e+00, 1.20124303e-01, 1.04793489e+00, 1.25251555e+00,\n",
              "        6.01989448e-01, 3.88210654e-01, 2.87291229e-01, 1.27253115e+00,\n",
              "        1.39945638e+00, 7.89279878e-01, 2.11592698e+00, 1.16006994e+00,\n",
              "        4.52295929e-01, 1.77759790e+00, 1.97287345e+00, 5.64104378e-01,\n",
              "        2.55110836e+00, 6.58984959e-01, 1.08539648e-01, 1.03079736e+00,\n",
              "        1.98046482e+00, 1.81199050e+00, 2.83738226e-01, 8.92348707e-01,\n",
              "        1.50800872e+00, 8.04223418e-02, 9.65454102e-01, 4.73299287e-02,\n",
              "        1.12969768e+00, 4.15768242e+00, 8.85545611e-02, 1.39508712e+00,\n",
              "        4.86896038e-01, 4.81686652e-01, 1.28942216e-02, 1.77152276e-01,\n",
              "        4.57319282e-02, 4.93140161e-01, 8.18946660e-01, 5.36544155e-03,\n",
              "        8.52480769e-01, 7.95626521e-01, 1.59739986e-01, 2.84466267e-01,\n",
              "        9.86696720e-01, 1.32401061e+00, 3.53478837e+00, 1.10445416e+00,\n",
              "        7.80652642e-01, 1.00093579e+00, 4.88241494e-01, 2.06540570e-01,\n",
              "        4.88268912e-01, 2.06233954e+00, 1.01999569e+00, 2.49931622e+00,\n",
              "        1.09387532e-01, 1.21399239e-02, 9.28779125e-01, 5.52987121e-02,\n",
              "        7.25230396e-01, 2.68639326e+00, 5.23261447e-03, 7.97743678e-01,\n",
              "        1.50607573e-02, 1.86649561e-01, 1.61584103e+00, 5.75250149e-01,\n",
              "        5.42282522e-01, 3.77882218e+00, 3.98534089e-02, 5.42829394e-01,\n",
              "        4.72396374e-01, 3.00659388e-01, 5.58532542e-03, 9.73161995e-01,\n",
              "        1.22692692e+00, 5.38272917e-01, 2.75616574e+00, 6.02588803e-02,\n",
              "        1.94242239e+00, 3.90125781e-01, 1.26671457e+00, 7.73139298e-02,\n",
              "        6.51446655e-02, 2.10795712e+00, 6.15701489e-02, 1.82348692e+00,\n",
              "        1.21455796e-01, 1.31327510e-01, 2.72613853e-01, 7.05229163e-01,\n",
              "        1.51847124e-01, 5.73020875e-01, 2.69725442e-01, 4.02297705e-01,\n",
              "        1.37964773e+00, 4.54496813e+00, 4.08723682e-01, 2.88352877e-01,\n",
              "        1.24971437e+00, 1.10460842e+00, 6.20888406e-03, 1.21645026e-01,\n",
              "        7.34420866e-02, 9.44075212e-02, 3.50493646e+00, 8.91038999e-02,\n",
              "        1.75393224e+00, 1.03380489e+00, 4.91374761e-01, 3.17569226e-02,\n",
              "        4.20227051e-02, 5.34542613e-02, 1.09657548e-01, 3.51316363e-01,\n",
              "        1.40112925e+00, 0.00000000e+00, 1.05764819e-02, 1.21110389e-02,\n",
              "        1.36655690e-02, 1.33637249e+00, 2.95068836e+00, 5.87744191e-02,\n",
              "        2.78338045e-01, 2.44989347e+00, 7.06199229e-01, 2.24830553e-01,\n",
              "        2.42607623e-01, 3.80741209e-01, 3.56976949e-02, 3.12099364e-02,\n",
              "        8.48585606e-01, 3.99029255e-01, 3.13710833e+00, 3.23242135e-02,\n",
              "        3.92079175e-01, 5.27785942e-02, 1.81210041e+00, 1.57280236e-01,\n",
              "        1.15556300e+00, 7.24344432e-01, 1.89631507e-01, 7.72209791e-03,\n",
              "        3.64461988e-01, 9.49231088e-02, 3.33335578e-01, 1.04530501e+00,\n",
              "        4.55914736e-01, 7.22458303e-01, 1.00152500e-01, 2.75741480e-02,\n",
              "        4.92441922e-01, 0.00000000e+00, 1.50189102e-01, 2.45678008e-01,\n",
              "        1.45173204e+00, 1.18902576e+00, 7.41911113e-01, 4.85369354e-01,\n",
              "        1.40963206e-02, 1.23197007e+00, 1.16828144e+00, 5.37646823e-02,\n",
              "        3.44740129e+00, 1.30979434e-01, 4.06492025e-01, 5.62035859e-01,\n",
              "        6.66554093e-01, 2.44319394e-01, 2.11263609e+00, 1.09266675e+00,\n",
              "        1.33495522e+00, 3.33252759e-03, 2.58985013e-02, 1.04819798e+00,\n",
              "        1.21398258e+00, 5.91044426e-01, 1.32024080e-01, 5.13985276e-01,\n",
              "        5.01750350e-01, 5.45783527e-02, 5.97416759e-01, 2.40478724e-01,\n",
              "        1.04239821e+00, 7.62138903e-01, 2.27711853e-02, 3.47641498e-01,\n",
              "        3.47646743e-01, 2.09262297e-01, 1.08444318e-01, 4.36087132e+00,\n",
              "        7.70755172e-01, 9.86617804e-02, 1.61764532e-01, 2.48711407e-01,\n",
              "        2.09870353e-01, 2.92313397e-02, 2.37790812e-02, 1.10749051e-01,\n",
              "        3.11072439e-01, 4.41063225e-01, 1.12742162e+00, 5.49769759e-01,\n",
              "        8.95036519e-01, 1.13440104e-01, 9.69626546e-01, 2.23865652e+00,\n",
              "        8.52507830e-01, 2.74018273e-02, 3.17783892e-01, 1.02329552e-01,\n",
              "        2.71708846e+00, 2.00412726e+00, 1.93331802e+00, 1.03697562e+00,\n",
              "        1.36060643e+00, 2.99794674e-01, 3.57794046e-01, 1.07838762e+00,\n",
              "        8.17265153e-01, 8.67004335e-01, 3.23905353e-03, 9.38900232e-01,\n",
              "        1.97989985e-01, 4.41430509e-01, 5.60162067e-02, 1.34016380e-01,\n",
              "        1.06209862e+00, 3.17426711e-01, 8.43524098e-01, 1.74277484e+00,\n",
              "        1.15944065e-01, 3.88214976e-01, 1.63547218e+00, 3.08336735e-01,\n",
              "        1.98851481e-01, 3.13907117e-02, 8.73531044e-01, 1.18263412e+00,\n",
              "        4.20172751e-01, 9.36393738e-01, 8.52961764e-02, 1.43925533e-01,\n",
              "        2.65382504e+00, 7.64158428e-01, 1.70255041e+00, 1.61183321e+00,\n",
              "        7.14706838e-01, 3.42998534e-01, 1.49776566e+00, 1.71459429e-02,\n",
              "        1.35696757e+00, 5.61473798e-03, 6.04142725e-01, 1.57916927e+00,\n",
              "        4.20719504e-01, 1.60936415e+00, 2.91463863e-02, 8.47075164e-01,\n",
              "        2.28989646e-01, 9.12704766e-01, 1.38184834e+00, 1.64034712e+00,\n",
              "        2.50435024e-01, 5.33157960e-02, 8.32638621e-01, 1.07506192e+00,\n",
              "        1.79228157e-01, 3.06363925e-02, 2.15873003e+00, 1.72162473e+00,\n",
              "        1.26085043e+00, 9.91003394e-01, 4.51891601e-01, 1.57187712e+00,\n",
              "        1.06716633e+00, 5.70030928e-01, 1.57364655e+00, 2.27309868e-01,\n",
              "        3.70243609e-01, 1.36798039e-01, 4.16138023e-02, 1.19386807e-01,\n",
              "        2.46069908e+00, 2.94756979e-01, 1.28792040e-02, 2.74218678e-01,\n",
              "        7.00487256e-01, 3.18759292e-01, 3.76722306e-01, 1.17013872e+00,\n",
              "        1.17267931e+00, 7.61328399e-01, 1.38828484e-02, 9.54622388e-01,\n",
              "        1.14587940e-01, 1.52866113e+00, 8.33594203e-01, 2.44464248e-01,\n",
              "        7.82485008e-01, 7.16698170e-01, 1.50791383e+00, 2.95608491e-01,\n",
              "        8.13822225e-02, 3.26690584e-01, 1.08784929e-01, 1.12009573e+00,\n",
              "        4.58042115e-01, 1.15395558e+00, 7.53660798e-02, 4.68420655e-01,\n",
              "        4.03080173e-02, 9.15178508e-02, 1.99476254e+00, 1.24023449e+00,\n",
              "        1.28933311e-01, 3.85568738e-01, 7.38879293e-02, 1.06535435e+00,\n",
              "        4.31803495e-01, 5.92758298e-01, 2.71880805e-01, 2.42506576e+00,\n",
              "        1.88197121e-01, 9.30531859e-01, 5.86250007e-01, 1.55881597e-02,\n",
              "        1.01100497e-01, 8.27223718e-01, 4.62850660e-01, 4.31883276e-01,\n",
              "        2.60575891e-01, 3.64639491e-01, 8.42819586e-02, 4.15241987e-01,\n",
              "        2.34584832e+00, 1.69277310e+00, 2.22529806e-02, 1.78936481e+00,\n",
              "        7.48436004e-02, 2.09811759e+00, 2.53770292e-01, 1.21020330e-02,\n",
              "        1.05570674e-01, 7.76639044e-01, 1.33772586e-02, 9.84209359e-01,\n",
              "        2.49724641e-01, 5.37431300e-01, 4.87799704e-01, 8.79313409e-01,\n",
              "        5.34849644e-01, 1.69257009e+00, 1.78723609e+00, 1.12261608e-01,\n",
              "        2.75743127e+00, 1.88610435e+00, 3.15083474e-01, 1.07492769e+00,\n",
              "        6.00283861e-01, 1.77156007e+00, 1.53978062e+00, 6.66246831e-01,\n",
              "        2.18630582e-01, 3.57318729e-01, 1.43045390e+00, 1.35502505e+00,\n",
              "        8.92922759e-01, 2.21983933e+00, 7.63348937e-01, 7.85215991e-04,\n",
              "        6.05145991e-01, 4.01792675e-01, 2.19580196e-02, 1.56095043e-01,\n",
              "        2.09331185e-01, 1.12109268e+00, 1.79674792e+00, 6.77498430e-02,\n",
              "        8.38200450e-01, 2.49105975e-01, 1.32024065e-01, 1.42642260e+00,\n",
              "        6.35762393e-01, 4.47102100e-01, 7.42812693e-01, 1.67770460e-01,\n",
              "        2.42668852e-01, 0.00000000e+00, 3.74584109e-01, 5.43029606e-01,\n",
              "        1.68329507e-01, 5.80826811e-02, 4.61451672e-02, 7.94859409e-01,\n",
              "        3.13067406e-01, 6.71027675e-02, 6.93751752e-01, 4.79177117e-01,\n",
              "        5.90448361e-03, 2.14091778e+00, 1.11187959e+00, 2.44953901e-01,\n",
              "        3.26592416e-01, 3.20347250e-02, 6.62513018e-01, 6.42167568e-01,\n",
              "        5.47987446e-02, 2.65622288e-02, 2.36559063e-01, 5.42156696e-01,\n",
              "        1.03586100e-01, 1.31342018e+00, 3.03885627e+00, 1.11161649e+00,\n",
              "        1.68678856e+00, 5.27884476e-02, 2.24680096e-01, 7.87433147e-01,\n",
              "        3.72281766e+00, 5.12070537e-01, 7.91301489e-01, 5.32041073e-01,\n",
              "        1.49061418e+00, 0.00000000e+00, 2.34459567e+00, 7.24900901e-01,\n",
              "        2.08033517e-01, 7.33923912e-01, 3.79403567e+00, 5.68385005e-01,\n",
              "        2.86038846e-01, 1.82833034e-03, 1.47992742e+00, 4.89686608e-01,\n",
              "        0.00000000e+00, 1.19395089e+00, 1.76250577e-01, 5.89302361e-01,\n",
              "        3.96370679e-01, 5.38904071e-02, 1.18620193e+00, 0.00000000e+00,\n",
              "        1.68087375e+00, 1.17258537e+00, 3.26871336e-01, 2.40476441e+00,\n",
              "        8.03851187e-02, 1.82858780e-01, 2.26039127e-01, 2.65277076e+00,\n",
              "        7.27943957e-01, 3.16488802e-01, 1.28189063e+00, 3.53331357e-01,\n",
              "        2.02518153e+00, 3.21598202e-02, 4.21351135e-01, 3.19845319e-01,\n",
              "        8.51236656e-02, 1.63166612e-01, 5.56246817e-01, 9.20004606e-01,\n",
              "        5.94502866e-01, 9.28137302e-01, 6.62808955e-01, 3.38007641e+00,\n",
              "        1.22924477e-01, 5.00804365e-01, 7.29865789e-01, 5.19662976e-01,\n",
              "        9.14591476e-02, 9.14728343e-01, 7.12072730e-01, 6.84345782e-01,\n",
              "        2.54327089e-01, 4.69206497e-02, 8.26890111e-01, 2.12574935e+00,\n",
              "        1.07910812e+00, 6.29026294e-01, 1.08957574e-01, 3.32370400e-02]],\n",
              "      dtype=float32)"
            ]
          },
          "metadata": {
            "tags": []
          },
          "execution_count": 70
        }
      ]
    },
    {
      "cell_type": "code",
      "metadata": {
        "colab": {
          "base_uri": "https://localhost:8080/"
        },
        "id": "wgHPod3cfNf7",
        "outputId": "76d38231-f99a-4e64-8f78-667b001a467e"
      },
      "source": [
        "pred = classif_RF.predict(x)\n",
        "pred"
      ],
      "execution_count": null,
      "outputs": [
        {
          "output_type": "execute_result",
          "data": {
            "text/plain": [
              "array([3])"
            ]
          },
          "metadata": {
            "tags": []
          },
          "execution_count": 71
        }
      ]
    },
    {
      "cell_type": "code",
      "metadata": {
        "colab": {
          "base_uri": "https://localhost:8080/"
        },
        "id": "a2IhqiMliIww",
        "outputId": "2c3fc1bf-62e9-427d-89c9-e8148e3121e7"
      },
      "source": [
        "data ={0 :\"Ben\",1 :\"Elton\",2 :\"Jerry\",3 :\"Maddona\",4 :\"Mindy\"}\n",
        "\n",
        "print(data[pred[0]])"
      ],
      "execution_count": null,
      "outputs": [
        {
          "output_type": "stream",
          "text": [
            "Maddona\n"
          ],
          "name": "stdout"
        }
      ]
    },
    {
      "cell_type": "markdown",
      "metadata": {
        "id": "EoALH81Jrjii"
      },
      "source": [
        "El clasificador a pesar de tener poco dataset de imagenes (armado a mano), se puede ver que reconoce bastante bien a los famosos.\n",
        " "
      ]
    }
  ]
}